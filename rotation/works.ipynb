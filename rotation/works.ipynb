{
 "cells": [
  {
   "cell_type": "markdown",
   "metadata": {},
   "source": [
    "# reader.py\n",
    "## typeraisedのconverterエラーチェック用\n",
    "    - typeraisedがread_parsedtreeで読み込めない。\n",
    "        - combinatorsに'>T'が含まれていなかったことが原因"
   ]
  },
  {
   "cell_type": "code",
   "execution_count": 116,
   "metadata": {},
   "outputs": [],
   "source": [
    "from typing import Iterator, List, Tuple\n",
    "# import re\n",
    "\n",
    "from depccg.cat import Category\n",
    "from depccg.tree import Tree\n",
    "from depccg.types import Token\n",
    "from depccg.tools.reader import ReaderResult\n",
    "\n",
    "\n",
    "combinators = {\n",
    "    'SSEQ', '>', '<', '>B', '<B1', '<B2', '<B3',\n",
    "    '<B4', '>Bx1', '>Bx2', '>Bx3',\n",
    "    'ADNext', 'ADNint', 'ADV0', 'ADV1', 'ADV2', '>T'\n",
    "}\n",
    "\n",
    "# DEPENDENCY = re.compile(r'{.+?}')\n",
    "\n",
    "\n",
    "def read_parsedtree(line: str) -> Iterator[ReaderResult]:\n",
    "    \"\"\"read the file of the Japanese CCG derivations parsed by depccg.\n",
    "\n",
    "    Args:\n",
    "        filename (str): file name string\n",
    "\n",
    "    Yields:\n",
    "        Iterator[ReaderResult]: iterator object containing parse results\n",
    "    \"\"\"\n",
    "    i = 1\n",
    "    line = line.strip()\n",
    "    tree, tokens = ParsedJaCCGLineReader(line).parse()\n",
    "    yield ReaderResult(str(i), tokens, tree)\n",
    "\n",
    "\n",
    "class ParsedJaCCGLineReader(object):\n",
    "    def __init__(self, line: str) -> None:\n",
    "        self.line = line\n",
    "        self.index = 0\n",
    "        self.word_id = -1\n",
    "        self.tokens = []\n",
    "\n",
    "    def next(self, target: str) -> str:\n",
    "        end = self.line.find(target, self.index)\n",
    "        result = self.line[self.index:end]\n",
    "        self.index = end + 1\n",
    "        return result\n",
    "\n",
    "    def check(self, text: str, offset: int = 0) -> None:\n",
    "        if self.line[self.index + offset] != text:\n",
    "            raise RuntimeError('AutoLineReader.check catches parse error')\n",
    "\n",
    "    def peek(self) -> str:\n",
    "        return self.line[self.index]\n",
    "\n",
    "    def parse(self) -> Tuple[Tree, List[Token]]:\n",
    "        result = self.next_node()\n",
    "        return result, self.tokens\n",
    "\n",
    "    @property\n",
    "    def next_node(self):\n",
    "        end = self.line.find(' ', self.index)\n",
    "        if self.line[self.index + 1:end] in combinators:\n",
    "            return self.parse_tree\n",
    "        else:\n",
    "            return self.parse_leaf\n",
    "\n",
    "    def parse_leaf(self) -> Tree:\n",
    "        self.word_id += 1\n",
    "        self.check('{')\n",
    "        cat = self.next(' ')[1:]\n",
    "        # cat = cat[:cat.find('_')]\n",
    "        # cat = DEPENDENCY.sub('', cat)\n",
    "        cat = Category.parse(cat)\n",
    "        surf, base, pos1, pos2 = self.next('}')[:-1].split('/')\n",
    "        token = Token(surf=surf, base=base, pos1=pos1, pos2=pos2)\n",
    "        self.tokens.append(token)\n",
    "        return Tree.make_terminal(surf, cat)\n",
    "\n",
    "    def parse_tree(self) -> Tree:\n",
    "        self.check('{')\n",
    "        op_string = self.next(' ')\n",
    "        # cat = DEPENDENCY.sub('', self.next(' '))\n",
    "        cat = self.next(' ')\n",
    "        cat = Category.parse(cat)\n",
    "        self.check('{')\n",
    "\n",
    "        children = []\n",
    "        while self.peek() != '}':\n",
    "            children.append(self.next_node())\n",
    "            if self.peek() == ' ':\n",
    "                self.next(' ')\n",
    "\n",
    "        self.next('}')\n",
    "\n",
    "        if len(children) == 1:\n",
    "            return Tree.make_unary(cat, children[0], op_string.replace(\"{\", \"\"), op_string.replace(\"{\", \"\"))\n",
    "        else:\n",
    "            assert len(\n",
    "                children) == 2, f'failed to parse, invalid number of children: {self.line}'\n",
    "            left, right = children\n",
    "            return Tree.make_binary(cat, left, right, op_string.replace(\"{\", \"\"), op_string.replace(\"{\", \"\"))\n"
   ]
  },
  {
   "cell_type": "code",
   "execution_count": 117,
   "metadata": {},
   "outputs": [],
   "source": [
    "s = r\"{< S[mod=nm,form=stem,fin=t] {> S[mod=nm,form=stem,fin=f] {ADV0 S[mod=X1,form=X2,fin=X3]/S[mod=X1,form=X2,fin=X3] {< NP[case=nc,mod=adv,fin=f] {> NP[case=nc,mod=adv,fin=f] {< NP[case=X1,mod=X2,fin=f]/NP[case=X1,mod=X2,fin=f] {> NP[case=nc,mod=nm,fin=f] {NP[case=X1,mod=X2,fin=f]/NP[case=X1,mod=X2,fin=f] ９/９/名詞-数/_} {NP[case=nc,mod=nm,fin=f] ５/５/名詞-数/_}} {(NP[case=X1,mod=X2,fin=f]/NP[case=X1,mod=X2,fin=f])\\NP[case=nc,mod=nm,fin=f] ―/―/記号-一般/_}} {< NP[case=nc,mod=adv,fin=f] {> NP[case=nc,mod=nm,fin=f] {NP[case=X1,mod=X2,fin=f]/NP[case=X1,mod=X2,fin=f] ９/９/名詞-数/_} {NP[case=nc,mod=nm,fin=f] ７/７/名詞-数/_}} {NP[case=nc,mod=adv,fin=f]\\NP[case=nc,mod=nm,fin=f] 年/年/名詞-接尾-助数詞/_}}} {NP[case=X1,mod=X2,fin=f]\\NP[case=X1,mod=X2,fin=f] 、/、/記号-読点/_}}} {> S[mod=nm,form=stem,fin=f] {ADV0 S[mod=X1,form=X2,fin=X3]/S[mod=X1,form=X2,fin=X3] {< S[mod=adv,form=cont,fin=f] {< S[mod=adv,form=cont,fin=f] {< NP[case=ni,mod=nm,fin=f] {> NP[case=nc,mod=nm,fin=f] {< NP[case=X1,mod=X2,fin=f]/NP[case=X1,mod=X2,fin=f] {NP[case=X1,mod=X2,fin=f]/NP[case=X1,mod=X2,fin=f] 中国/中国/名詞-固有名詞-地域-国/_} {(NP[case=X1,mod=X2,fin=f]/NP[case=X1,mod=X2,fin=f])\\(NP[case=X1,mod=X2,fin=f]/NP[case=X1,mod=X2,fin=f]) ・/・/記号-一般/_}} {NP[case=nc,mod=nm,fin=f] 北京大/北京大/名詞-固有名詞-組織/_}} {NP[case=ni,mod=nm,fin=f]\\NP[case=nc,mod=nm,fin=f] に/に/助詞-格助詞-一般/_}} {<B1 S[mod=adv,form=cont,fin=f]\\NP[case=ni,mod=nm,fin=f] {S[mod=nm,form=stem,fin=f]\\NP[case=ni,mod=nm,fin=f] 留学/留学/名詞-サ変接続/_} {S[mod=adv,form=cont,fin=f]\\S[mod=nm,form=stem,fin=f] し/し/動詞-自立/連用形-サ変・スル}}} {S[mod=X1,form=X2,fin=f]\\S[mod=X1,form=X2,fin=f] 、/、/記号-読点/_}}} {> S[mod=nm,form=stem,fin=f] {< S[mod=X1,form=X2,fin=f]/S[mod=X1,form=X2,fin=f] {< NP[case=nc,mod=nm,fin=f] {NP[case=nc,mod=nm,fin=f] 帰国/帰国/名詞-サ変接続/_} {NP[case=nc,mod=nm,fin=f]\\NP[case=nc,mod=nm,fin=f] 後/後/名詞-接尾-副詞可能/_}} {(S[mod=X1,form=X2,fin=f]/S[mod=X1,form=X2,fin=f])\\NP[case=nc,mod=nm,fin=f] に/に/助詞-格助詞-一般/_}} {< S[mod=nm,form=stem,fin=f] {< NP[case=o,mod=nm,fin=f] {NP[case=nc,mod=nm,fin=f] 双子/双子/名詞-一般/_} {NP[case=o,mod=nm,fin=f]\\NP[case=nc,mod=nm,fin=f] を/を/助詞-格助詞-一般/_}} {S[mod=nm,form=stem,fin=f]\\NP[case=o,mod=nm,fin=f] 出産/出産/名詞-サ変接続/_}}}}} {S[mod=nm,form=stem,fin=t]\\S[mod=nm,form=stem,fin=f] 。/。/記号-句点/_}}\""
   ]
  },
  {
   "cell_type": "code",
   "execution_count": 4,
   "metadata": {},
   "outputs": [
    {
     "data": {
      "text/plain": [
       "'ADV0'"
      ]
     },
     "execution_count": 4,
     "metadata": {},
     "output_type": "execute_result"
    }
   ],
   "source": [
    "trees = [tree for _, _, tree in read_parsedtree(s)]\n",
    "tree = trees[0]\n",
    "tree\n",
    "tree.left_child.left_child.op_symbol"
   ]
  },
  {
   "cell_type": "code",
   "execution_count": 118,
   "metadata": {},
   "outputs": [
    {
     "data": {
      "text/plain": [
       "<depccg.tree.Tree at 0x11ac33550>"
      ]
     },
     "execution_count": 118,
     "metadata": {},
     "output_type": "execute_result"
    }
   ],
   "source": [
    "s = r\"{> S[mod=nm,form=base,fin=f] {>T S[mod=X1,form=X2,fin=X3]/(S[mod=X1,form=X2,fin=X3]\\NP[case=X1,mod=X2,fin=X3]) {< NP[case=ga,mod=nm,fin=f] {NP[case=nc,mod=nm,fin=f] 太郎/太郎/_/_} {NP[case=ga,mod=nm,fin=f]\\NP[case=nc,mod=nm,fin=f] が/が/_/_}}} {> S[mod=nm,form=base,fin=f]\\NP[case=ga,mod=nm,fin=f] {>T (S[mod=X1,form=X2,fin=X3]\\NP[case=X1,mod=X2,fin=X3])/((S[mod=X1,form=X2,fin=X3]\\NP[case=X1,mod=X2,fin=X3])\\NP[case=X1,mod=X2,fin=X3]) {< NP[case=o,mod=nm,fin=f] {NP[case=nc,mod=nm,fin=f] 花子/花子/_/_} {NP[case=o,mod=nm,fin=f]\\NP[case=nc,mod=nm,fin=f] を/を/_/_}}} {<B2 (S[mod=nm,form=base,fin=f]\\NP[case=ga,mod=nm,fin=f])\\NP[case=o,mod=nm,fin=f] {(S[mod=nm,form=cont,fin=f]\\NP[case=ga,mod=nm,fin=f])\\NP[case=o,mod=nm,fin=f] 殴っ/殴っ/_/_} {S[mod=nm,form=base,fin=f]\\S[mod=nm,form=cont,fin=f] た/た/_/_}}}}\"\n",
    "trees = [tree for _, _, tree in read_parsedtree(s)]\n",
    "tree = trees[0]\n",
    "tree"
   ]
  },
  {
   "cell_type": "code",
   "execution_count": 9,
   "metadata": {},
   "outputs": [],
   "source": [
    "from depccg.cat import Category, Functor, Atom, Feature\n",
    "import re\n",
    "cat_split = re.compile(r'([\\[\\]\\(\\)/\\\\|<>])')\n",
    "punctuations = [',', '.', ';', ':', 'LRB', 'RRB', 'conj', '*START*', '*END*']\n",
    "\n",
    "def parse(text: str) -> 'Category':\n",
    "        tokens = cat_split.sub(r' \\1 ', text)\n",
    "        print('print(tokens)')\n",
    "        print(tokens)\n",
    "        buffer = list(reversed([i for i in tokens.split(' ') if i != '']))\n",
    "        print('print(buffer)')\n",
    "        print(buffer)\n",
    "        print()\n",
    "        stack = []\n",
    "\n",
    "        while len(buffer):\n",
    "            item = buffer.pop()\n",
    "            if item in punctuations:\n",
    "                stack.append(Atom(item))\n",
    "                print('if item in punctuations')\n",
    "                print(buffer)\n",
    "                print(stack)\n",
    "                print()\n",
    "            elif item in '(<':\n",
    "                stack.append(item)\n",
    "                print('elif item in (<')\n",
    "                print(buffer)\n",
    "                print(stack)\n",
    "                print()\n",
    "            elif item in ')>':\n",
    "                y = stack.pop()\n",
    "                # case like: stack = [\"(\", S/NP], buffer = [\")\"]\n",
    "                # which can occur when parsing eg., \"((S/NP))\"\n",
    "                print('elif item in >)')\n",
    "                print(buffer)\n",
    "                print(stack)\n",
    "                print()\n",
    "                assert len(stack) > 0\n",
    "                if (\n",
    "                    stack[-1] == '(' and item == ')'\n",
    "                    or stack[-1] == '<' and item == '>'\n",
    "                ):\n",
    "                    assert stack.pop() in \"(<\"\n",
    "                    stack.append(y)\n",
    "                    print('if item in stack[-1] == ( and item == ) or stack[-1] == < and item == >')\n",
    "                    print(buffer)\n",
    "                    print(stack)\n",
    "                    print()\n",
    "                # case like: stack = [\"(\", S, /, NP], buffer = [\")\"]\n",
    "                else:\n",
    "                    f = stack.pop()\n",
    "                    x = stack.pop()\n",
    "                    assert stack.pop() in \"(<\"\n",
    "                    stack.append(Functor(x, f, y))\n",
    "                    print('else:(if item in stack[-1] == ( and item == ) or stack[-1] == < and item == >)')\n",
    "                    print(buffer)\n",
    "                    print(stack)\n",
    "                    print()\n",
    "            elif item in '/\\\\|':\n",
    "                stack.append(item)\n",
    "            else:\n",
    "                # cases to process atomic category\n",
    "                # 1. when there is a feature eg., buffer = [\"[\", \"dcl\", \"]\"]\n",
    "                if len(buffer) >= 3 and buffer[-1] == '[':\n",
    "                    buffer.pop()\n",
    "                    feature = Feature.parse(buffer.pop())\n",
    "                    assert buffer.pop() == ']'\n",
    "                    stack.append(Atom(item, feature))\n",
    "                    print('else if len(buffer) >= 3')\n",
    "                    print(buffer)\n",
    "                    print(stack)\n",
    "                    print()\n",
    "                # 2. case with no feature\n",
    "                else:\n",
    "                    stack.append(Atom(item))\n",
    "                    print('else')\n",
    "                    print('stack.append(Atom(item))')\n",
    "                    print(buffer)\n",
    "                    print(stack)\n",
    "                    print()\n",
    "        if len(stack) == 1:\n",
    "                return stack[0]\n",
    "        try:\n",
    "                x, f, y = stack\n",
    "                return Functor(x, f, y)\n",
    "        except ValueError:\n",
    "                raise RuntimeError(f'falied to parse category: {text}')"
   ]
  },
  {
   "cell_type": "code",
   "execution_count": 11,
   "metadata": {},
   "outputs": [
    {
     "name": "stdout",
     "output_type": "stream",
     "text": [
      "print(tokens)\n",
      "S [ mod=X1,form=X2,fin=X3 ]  /  ( S [ mod=X1,form=X2,fin=X3 ]  \\ NP [ case=X1,mod=X2,fin=X3 ]  ) \n",
      "print(buffer)\n",
      "[')', ']', 'case=X1,mod=X2,fin=X3', '[', 'NP', '\\\\', ']', 'mod=X1,form=X2,fin=X3', '[', 'S', '(', '/', ']', 'mod=X1,form=X2,fin=X3', '[', 'S']\n",
      "\n",
      "else if len(buffer) >= 3\n",
      "[')', ']', 'case=X1,mod=X2,fin=X3', '[', 'NP', '\\\\', ']', 'mod=X1,form=X2,fin=X3', '[', 'S', '(', '/']\n",
      "[S[mod=X1,form=X2,fin=X3]]\n",
      "\n",
      "elif item in (<\n",
      "[')', ']', 'case=X1,mod=X2,fin=X3', '[', 'NP', '\\\\', ']', 'mod=X1,form=X2,fin=X3', '[', 'S']\n",
      "[S[mod=X1,form=X2,fin=X3], '/', '(']\n",
      "\n",
      "else if len(buffer) >= 3\n",
      "[')', ']', 'case=X1,mod=X2,fin=X3', '[', 'NP', '\\\\']\n",
      "[S[mod=X1,form=X2,fin=X3], '/', '(', S[mod=X1,form=X2,fin=X3]]\n",
      "\n",
      "else if len(buffer) >= 3\n",
      "[')']\n",
      "[S[mod=X1,form=X2,fin=X3], '/', '(', S[mod=X1,form=X2,fin=X3], '\\\\', NP[case=X1,mod=X2,fin=X3]]\n",
      "\n",
      "elif item in >)\n",
      "[]\n",
      "[S[mod=X1,form=X2,fin=X3], '/', '(', S[mod=X1,form=X2,fin=X3], '\\\\']\n",
      "\n",
      "else:(if item in stack[-1] == ( and item == ) or stack[-1] == < and item == >)\n",
      "[]\n",
      "[S[mod=X1,form=X2,fin=X3], '/', S[mod=X1,form=X2,fin=X3]\\NP[case=X1,mod=X2,fin=X3]]\n",
      "\n"
     ]
    },
    {
     "data": {
      "text/plain": [
       "S[mod=X1,form=X2,fin=X3]/(S[mod=X1,form=X2,fin=X3]\\NP[case=X1,mod=X2,fin=X3])"
      ]
     },
     "execution_count": 11,
     "metadata": {},
     "output_type": "execute_result"
    }
   ],
   "source": [
    "parse(r\"S[mod=X1,form=X2,fin=X3]/(S[mod=X1,form=X2,fin=X3]\\NP[case=X1,mod=X2,fin=X3])\")"
   ]
  },
  {
   "cell_type": "code",
   "execution_count": 12,
   "metadata": {},
   "outputs": [
    {
     "name": "stdout",
     "output_type": "stream",
     "text": [
      "print(tokens)\n",
      " ( S [ mod=X1,form=X2,fin=X3 ]  \\ NP [ case=X1,mod=X2,fin=X3 ]  )  /  (  ( S [ mod=X1,form=X2,fin=X3 ]  \\ NP [ case=X1,mod=X2,fin=X3 ]  )  \\ NP [ case=X1,mod=X2,fin=X3 ]  ) \n",
      "print(buffer)\n",
      "[')', ']', 'case=X1,mod=X2,fin=X3', '[', 'NP', '\\\\', ')', ']', 'case=X1,mod=X2,fin=X3', '[', 'NP', '\\\\', ']', 'mod=X1,form=X2,fin=X3', '[', 'S', '(', '(', '/', ')', ']', 'case=X1,mod=X2,fin=X3', '[', 'NP', '\\\\', ']', 'mod=X1,form=X2,fin=X3', '[', 'S', '(']\n",
      "\n",
      "elif item in (<\n",
      "[')', ']', 'case=X1,mod=X2,fin=X3', '[', 'NP', '\\\\', ')', ']', 'case=X1,mod=X2,fin=X3', '[', 'NP', '\\\\', ']', 'mod=X1,form=X2,fin=X3', '[', 'S', '(', '(', '/', ')', ']', 'case=X1,mod=X2,fin=X3', '[', 'NP', '\\\\', ']', 'mod=X1,form=X2,fin=X3', '[', 'S']\n",
      "['(']\n",
      "\n",
      "else if len(buffer) >= 3\n",
      "[')', ']', 'case=X1,mod=X2,fin=X3', '[', 'NP', '\\\\', ')', ']', 'case=X1,mod=X2,fin=X3', '[', 'NP', '\\\\', ']', 'mod=X1,form=X2,fin=X3', '[', 'S', '(', '(', '/', ')', ']', 'case=X1,mod=X2,fin=X3', '[', 'NP', '\\\\']\n",
      "['(', S[mod=X1,form=X2,fin=X3]]\n",
      "\n",
      "else if len(buffer) >= 3\n",
      "[')', ']', 'case=X1,mod=X2,fin=X3', '[', 'NP', '\\\\', ')', ']', 'case=X1,mod=X2,fin=X3', '[', 'NP', '\\\\', ']', 'mod=X1,form=X2,fin=X3', '[', 'S', '(', '(', '/', ')']\n",
      "['(', S[mod=X1,form=X2,fin=X3], '\\\\', NP[case=X1,mod=X2,fin=X3]]\n",
      "\n",
      "elif item in >)\n",
      "[')', ']', 'case=X1,mod=X2,fin=X3', '[', 'NP', '\\\\', ')', ']', 'case=X1,mod=X2,fin=X3', '[', 'NP', '\\\\', ']', 'mod=X1,form=X2,fin=X3', '[', 'S', '(', '(', '/']\n",
      "['(', S[mod=X1,form=X2,fin=X3], '\\\\']\n",
      "\n",
      "else:(if item in stack[-1] == ( and item == ) or stack[-1] == < and item == >)\n",
      "[')', ']', 'case=X1,mod=X2,fin=X3', '[', 'NP', '\\\\', ')', ']', 'case=X1,mod=X2,fin=X3', '[', 'NP', '\\\\', ']', 'mod=X1,form=X2,fin=X3', '[', 'S', '(', '(', '/']\n",
      "[S[mod=X1,form=X2,fin=X3]\\NP[case=X1,mod=X2,fin=X3]]\n",
      "\n",
      "elif item in (<\n",
      "[')', ']', 'case=X1,mod=X2,fin=X3', '[', 'NP', '\\\\', ')', ']', 'case=X1,mod=X2,fin=X3', '[', 'NP', '\\\\', ']', 'mod=X1,form=X2,fin=X3', '[', 'S', '(']\n",
      "[S[mod=X1,form=X2,fin=X3]\\NP[case=X1,mod=X2,fin=X3], '/', '(']\n",
      "\n",
      "elif item in (<\n",
      "[')', ']', 'case=X1,mod=X2,fin=X3', '[', 'NP', '\\\\', ')', ']', 'case=X1,mod=X2,fin=X3', '[', 'NP', '\\\\', ']', 'mod=X1,form=X2,fin=X3', '[', 'S']\n",
      "[S[mod=X1,form=X2,fin=X3]\\NP[case=X1,mod=X2,fin=X3], '/', '(', '(']\n",
      "\n",
      "else if len(buffer) >= 3\n",
      "[')', ']', 'case=X1,mod=X2,fin=X3', '[', 'NP', '\\\\', ')', ']', 'case=X1,mod=X2,fin=X3', '[', 'NP', '\\\\']\n",
      "[S[mod=X1,form=X2,fin=X3]\\NP[case=X1,mod=X2,fin=X3], '/', '(', '(', S[mod=X1,form=X2,fin=X3]]\n",
      "\n",
      "else if len(buffer) >= 3\n",
      "[')', ']', 'case=X1,mod=X2,fin=X3', '[', 'NP', '\\\\', ')']\n",
      "[S[mod=X1,form=X2,fin=X3]\\NP[case=X1,mod=X2,fin=X3], '/', '(', '(', S[mod=X1,form=X2,fin=X3], '\\\\', NP[case=X1,mod=X2,fin=X3]]\n",
      "\n",
      "elif item in >)\n",
      "[')', ']', 'case=X1,mod=X2,fin=X3', '[', 'NP', '\\\\']\n",
      "[S[mod=X1,form=X2,fin=X3]\\NP[case=X1,mod=X2,fin=X3], '/', '(', '(', S[mod=X1,form=X2,fin=X3], '\\\\']\n",
      "\n",
      "else:(if item in stack[-1] == ( and item == ) or stack[-1] == < and item == >)\n",
      "[')', ']', 'case=X1,mod=X2,fin=X3', '[', 'NP', '\\\\']\n",
      "[S[mod=X1,form=X2,fin=X3]\\NP[case=X1,mod=X2,fin=X3], '/', '(', S[mod=X1,form=X2,fin=X3]\\NP[case=X1,mod=X2,fin=X3]]\n",
      "\n",
      "else if len(buffer) >= 3\n",
      "[')']\n",
      "[S[mod=X1,form=X2,fin=X3]\\NP[case=X1,mod=X2,fin=X3], '/', '(', S[mod=X1,form=X2,fin=X3]\\NP[case=X1,mod=X2,fin=X3], '\\\\', NP[case=X1,mod=X2,fin=X3]]\n",
      "\n",
      "elif item in >)\n",
      "[]\n",
      "[S[mod=X1,form=X2,fin=X3]\\NP[case=X1,mod=X2,fin=X3], '/', '(', S[mod=X1,form=X2,fin=X3]\\NP[case=X1,mod=X2,fin=X3], '\\\\']\n",
      "\n",
      "else:(if item in stack[-1] == ( and item == ) or stack[-1] == < and item == >)\n",
      "[]\n",
      "[S[mod=X1,form=X2,fin=X3]\\NP[case=X1,mod=X2,fin=X3], '/', (S[mod=X1,form=X2,fin=X3]\\NP[case=X1,mod=X2,fin=X3])\\NP[case=X1,mod=X2,fin=X3]]\n",
      "\n"
     ]
    },
    {
     "data": {
      "text/plain": [
       "(S[mod=X1,form=X2,fin=X3]\\NP[case=X1,mod=X2,fin=X3])/((S[mod=X1,form=X2,fin=X3]\\NP[case=X1,mod=X2,fin=X3])\\NP[case=X1,mod=X2,fin=X3])"
      ]
     },
     "execution_count": 12,
     "metadata": {},
     "output_type": "execute_result"
    }
   ],
   "source": [
    "parse(r\"(S[mod=X1,form=X2,fin=X3]\\NP[case=X1,mod=X2,fin=X3])/((S[mod=X1,form=X2,fin=X3]\\NP[case=X1,mod=X2,fin=X3])\\NP[case=X1,mod=X2,fin=X3])\")"
   ]
  },
  {
   "cell_type": "markdown",
   "metadata": {},
   "source": [
    "# bottom-up traversal for node count\n",
    "## 作業メモ\n",
    "    - binary treeに関しては正しく動くことが確認できた\n",
    "    - unaryを含む文については未確認。\n",
    "        - type-raised treeが、read_parsedtreeでの読み込みに失敗しているため。\n",
    "        - ↑ rebranchingおよびnodecountのために修正必要\n",
    "    - ↑ unaryでもうまくいった。"
   ]
  },
  {
   "cell_type": "code",
   "execution_count": 90,
   "metadata": {},
   "outputs": [],
   "source": [
    "s = r\"{< S[mod=nm,form=base,fin=f] {< NP[case=ga,mod=nm,fin=f] {NP[case=nc,mod=nm,fin=f] 私/私/名詞-代名詞-一般/_} {NP[case=ga,mod=nm,fin=f]\\NP[case=nc,mod=nm,fin=f] が/が/助詞-格助詞-一般/_}} {S[mod=nm,form=base,fin=f]\\NP[case=ga,mod=nm,fin=f] 歩く/歩く/動詞-自立/基本形-五段・カ行イ音便}}\"\n",
    "trees = [tree for _, _, tree in read_parsedtree(s)]\n",
    "tree = trees[0]"
   ]
  },
  {
   "cell_type": "code",
   "execution_count": 92,
   "metadata": {},
   "outputs": [],
   "source": [
    "s = r\"{< S[mod=nm,form=base,fin=f] {< NP[case=ga,mod=nm,fin=f] {NP[case=nc,mod=nm,fin=f] 太郎/太郎/名詞-固有名詞-人名-名/_} {(NP[case=ga,mod=nm,fin=f]\\NP[case=nc,mod=nm,fin=f]) が/が/助詞-格助詞-一般/_}} {< S[mod=nm,form=base,fin=f]\\NP[case=ga,mod=nm,fin=f] {< NP[case=o,mod=nm,fin=f] {NP[case=nc,mod=nm,fin=f] 花子/花子/名詞-固有名詞-人名-名/_} {(NP[case=o,mod=nm,fin=f]\\NP[case=nc,mod=nm,fin=f]) を/を/助詞-格助詞-一般/_}} {<B2 ((S[mod=nm,form=base,fin=f]\\NP[case=ga,mod=nm,fin=f])\\NP[case=o,mod=nm,fin=f]) {((S[mod=nm,form=cont,fin=f]\\NP[case=ga,mod=nm,fin=f])\\NP[case=o,mod=nm,fin=f]) 殴っ/殴っ/動詞-自立/連用タ接続-五段・ラ行} {(S[mod=nm,form=base,fin=f]\\S[mod=nm,form=cont,fin=f]) た/た/助動詞/基本形-特殊・タ}}}}\"\n",
    "trees = [tree for _, _, tree in read_parsedtree(s)]\n",
    "tree = trees[0]"
   ]
  },
  {
   "cell_type": "code",
   "execution_count": 112,
   "metadata": {},
   "outputs": [],
   "source": [
    "s = r\"{> S[mod=nm,form=base,fin=f] {>T S[mod=X1,form=X2,fin=X3]/(S[mod=X1,form=X2,fin=X3]\\NP[case=X1,mod=X2,fin=X3]) {< NP[case=ga,mod=nm,fin=f] {NP[case=nc,mod=nm,fin=f] 私/私/_/_} {NP[case=ga,mod=nm,fin=f]\\NP[case=nc,mod=nm,fin=f] が/が/_/_}}} {S[mod=nm,form=base,fin=f]\\NP[case=ga,mod=nm,fin=f] 歩く/歩く/_/_}}\"\n",
    "trees = [tree for _, _, tree in read_parsedtree(s)]\n",
    "tree = trees[0]"
   ]
  },
  {
   "cell_type": "code",
   "execution_count": 114,
   "metadata": {},
   "outputs": [],
   "source": [
    "s = r\"{> S[mod=nm,form=base,fin=f] {>T S[mod=X1,form=X2,fin=X3]/(S[mod=X1,form=X2,fin=X3]\\NP[case=X1,mod=X2,fin=X3]) {< NP[case=ga,mod=nm,fin=f] {NP[case=nc,mod=nm,fin=f] 太郎/太郎/_/_} {NP[case=ga,mod=nm,fin=f]\\NP[case=nc,mod=nm,fin=f] が/が/_/_}}} {> S[mod=nm,form=base,fin=f]\\NP[case=ga,mod=nm,fin=f] {>T (S[mod=X1,form=X2,fin=X3]\\NP[case=X1,mod=X2,fin=X3])/((S[mod=X1,form=X2,fin=X3]\\NP[case=X1,mod=X2,fin=X3])\\NP[case=X1,mod=X2,fin=X3]) {< NP[case=o,mod=nm,fin=f] {NP[case=nc,mod=nm,fin=f] 花子/花子/_/_} {NP[case=o,mod=nm,fin=f]\\NP[case=nc,mod=nm,fin=f] を/を/_/_}}} {<B2 (S[mod=nm,form=base,fin=f]\\NP[case=ga,mod=nm,fin=f])\\NP[case=o,mod=nm,fin=f] {(S[mod=nm,form=cont,fin=f]\\NP[case=ga,mod=nm,fin=f])\\NP[case=o,mod=nm,fin=f] 殴っ/殴っ/_/_} {S[mod=nm,form=base,fin=f]\\S[mod=nm,form=cont,fin=f] た/た/_/_}}}}\"\n",
    "trees = [tree for _, _, tree in read_parsedtree(s)]\n",
    "tree = trees[0]"
   ]
  },
  {
   "cell_type": "code",
   "execution_count": 115,
   "metadata": {},
   "outputs": [
    {
     "data": {
      "text/plain": [
       "(['太郎', 'が', '花子', 'を', '殴っ', 'た'], [1, 3, 1, 3, 1, 4])"
      ]
     },
     "execution_count": 115,
     "metadata": {},
     "output_type": "execute_result"
    }
   ],
   "source": [
    "from typing import Tuple, List\n",
    "\n",
    "from depccg.tree import Tree, Token\n",
    "\n",
    "class NodeCount(object):\n",
    "    def __init__(self):\n",
    "        self.count = 1\n",
    "        self.tokens = []\n",
    "        self.results = []\n",
    "\n",
    "    def traverse(self, node: Tree) -> None:\n",
    "        if node.is_leaf == False:\n",
    "            children = node.children\n",
    "            if len(children) == 1:\n",
    "                self.traverse(children[0])\n",
    "                self.count += 1\n",
    "            else:\n",
    "                self.traverse(children[0])\n",
    "                self.traverse(children[1])\n",
    "                self.count += 1\n",
    "        else:\n",
    "            self.results.append(self.count)\n",
    "            self.count += 1\n",
    "\n",
    "def nodecount(tree: Tree):\n",
    "    nd = NodeCount()\n",
    "    nd.traverse(tree)\n",
    "    nd.results.append(nd.count)\n",
    "    results = [j-i for i,j in zip(nd.results, nd.results[1:])]\n",
    "    tokens = [token['word'] for token in tree.tokens]\n",
    "    return tokens, results\n",
    "\n",
    "nodecount(tree)"
   ]
  }
 ],
 "metadata": {
  "kernelspec": {
   "display_name": "Python 3.10.6 64-bit",
   "language": "python",
   "name": "python3"
  },
  "language_info": {
   "codemirror_mode": {
    "name": "ipython",
    "version": 3
   },
   "file_extension": ".py",
   "mimetype": "text/x-python",
   "name": "python",
   "nbconvert_exporter": "python",
   "pygments_lexer": "ipython3",
   "version": "3.10.6"
  },
  "orig_nbformat": 4,
  "vscode": {
   "interpreter": {
    "hash": "949777d72b0d2535278d3dc13498b2535136f6dfe0678499012e853ee9abcab1"
   }
  }
 },
 "nbformat": 4,
 "nbformat_minor": 2
}
